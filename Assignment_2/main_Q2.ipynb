{
 "cells": [
  {
   "cell_type": "markdown",
   "id": "5b809a4e-a7ec-433b-87d9-0c50e4d7c75f",
   "metadata": {},
   "source": [
    "## Q2 Solution\n",
    "\n",
    "### Scattering of wavepacket in rectangular barrier potential"
   ]
  },
  {
   "cell_type": "code",
   "execution_count": 1,
   "id": "68d03acc-3261-49df-aac0-ae9143726e1a",
   "metadata": {},
   "outputs": [],
   "source": [
    "import numpy as np\n",
    "import matplotlib.pyplot as plt\n",
    "\n",
    "from scipy import integrate\n",
    "from scipy import sparse"
   ]
  },
  {
   "cell_type": "markdown",
   "id": "0b51bc24",
   "metadata": {},
   "source": [
    "#### Rectangular barrier potential"
   ]
  },
  {
   "cell_type": "code",
   "execution_count": 2,
   "id": "8ee754cb",
   "metadata": {},
   "outputs": [],
   "source": [
    "def potential(x):\n",
    "    V = np.zeros((x.shape))\n",
    "    for i in range(len(x)):\n",
    "        if x[i]>=-a and x[i]<=a:\n",
    "            V[i] = V0\n",
    "        else:\n",
    "            V[i] = 0.0\n",
    "    return V"
   ]
  },
  {
   "cell_type": "markdown",
   "id": "037cd03b-1593-4a4a-b5b3-fb748c9d6955",
   "metadata": {},
   "source": [
    "#### Initial Conditions Setting"
   ]
  },
  {
   "cell_type": "code",
   "execution_count": 3,
   "id": "5e479690-77e0-42d0-8dce-ffca710dcf36",
   "metadata": {},
   "outputs": [],
   "source": [
    "m     = 1                           # mass\n",
    "hbar = 1                            # hbar = 1.0545718176461565e-34\n",
    "\n",
    "dx    = 0.02                        # spatial separation\n",
    "x     = np.arange(-30, 30, dx)      # spatial grid points\n",
    "x0 = -5                             # center of initial gaussian wave-packet peaked at x=x0 in position space\n",
    "\n",
    "k0    = 0.5                         # center of initial gaussian wave-packet peaked at k=k0 in k-space\n",
    "sigma = 1.0                         # width of initial gaussian wave-packet in k-space\n",
    "\n",
    "A = sigma/np.sqrt(np.pi)            # Normalization constant\n",
    "\n",
    "# Initial Wavefunction in position-space for given 'k'\n",
    "def psi(k):\n",
    "    return np.sqrt(A)* np.exp(-sigma**2 * (x-x0)**2 / 2) * np.exp(1j * k * x)\n",
    "psi0 = psi(k0)\n",
    "\n",
    "# Rectangular barrier potential V(x)\n",
    "a = 1.0                             # width of barrier\n",
    "V0 = 1.0                            # Parameter controlling height of step potential\n",
    "V = potential(x)"
   ]
  },
  {
   "cell_type": "code",
   "execution_count": 4,
   "id": "195f4fb7",
   "metadata": {},
   "outputs": [
    {
     "data": {
      "image/png": "[encoded data removed]",
      "text/plain": [
       "<Figure size 432x288 with 1 Axes>"
      ]
     },
     "metadata": {
      "needs_background": "light"
     },
     "output_type": "display_data"
    },
    {
     "name": "stdout",
     "output_type": "stream",
     "text": [
      "Total Probability:  1.0000000000000215\n"
     ]
    }
   ],
   "source": [
    "# Make a plot of psi0 and V \n",
    "plt.figure(figsize=(6, 4))\n",
    "plt.plot(x, V, \"k--\", label=r\"V(x)\")\n",
    "plt.plot(x, np.abs(psi0)**2, \"r\", label=r\"$\\vert\\psi(t=0,x)\\vert^2$\")\n",
    "plt.legend(loc=1, fontsize=10)\n",
    "plt.show()\n",
    "print(\"Total Probability: \", np.sum(np.abs(psi0)**2)*dx)"
   ]
  },
  {
   "cell_type": "markdown",
   "id": "19c83de9-aa0c-4598-a1dc-1b8636db5f83",
   "metadata": {},
   "source": [
    "#### Solving Schrodinger equation \n",
    "Original 1-D Schrodinger equation: $$-\\frac{\\hbar^2}{2m}\\nabla^2\\psi + V \\psi = i\\hbar\\frac{\\partial}{\\partial t}\\psi$$"
   ]
  },
  {
   "cell_type": "code",
   "execution_count": 5,
   "id": "c796d6e1-0e8a-4f9e-a37b-74dffa8d37a8",
   "metadata": {},
   "outputs": [],
   "source": [
    "# RHS of Schrodinger Equation\n",
    "def psi_t(t, psi):\n",
    "    return -1j * (- 0.5 * hbar / m * D2.dot(psi) + V / hbar * psi)"
   ]
  },
  {
   "cell_type": "code",
   "execution_count": 6,
   "id": "67c1681c",
   "metadata": {},
   "outputs": [],
   "source": [
    "# Laplace Operator (Finite Difference) for numerical 2nd-order differentiation of psi wrt x\n",
    "D2 = sparse.diags([1, -2, 1], [-1, 0, 1], shape=(x.size, x.size)) / dx**2"
   ]
  },
  {
   "cell_type": "markdown",
   "id": "3b55492c",
   "metadata": {},
   "source": [
    "#### Expectation value of energy for given $\\psi ( x, t )$\n",
    "\n",
    "$$ < E > = \\int_{-\\infty}^{\\infty} \\psi^{*} ( x, t ) \\hat{H} \\psi dx $$\n",
    "\n",
    "where, $$ \\hat{H} = -\\frac{\\hbar^2}{2m}\\nabla^2 + V  $$"
   ]
  },
  {
   "cell_type": "code",
   "execution_count": 7,
   "id": "1f6467fd",
   "metadata": {},
   "outputs": [],
   "source": [
    "# Calculating expectation value of energy of wavepacket for given wavefunction\n",
    "def expec_energy(psi):\n",
    "    return np.sum(psi.conj().T * (- 0.5 * hbar**2 / m * D2.dot(psi) + V * psi))*dx"
   ]
  },
  {
   "cell_type": "markdown",
   "id": "89e1e5a4",
   "metadata": {},
   "source": [
    "#### Transmission and reflection coefficient\n",
    "\n",
    "$$ T = \\lim_{t \\to \\infty} \\int_a^{\\infty} |\\psi( x, t )|^2 dx $$\n",
    "\n",
    "$$ R = \\lim_{t \\to \\infty} \\int_{-\\infty}^{-a} |\\psi( x, t )|^2 dx $$"
   ]
  },
  {
   "cell_type": "code",
   "execution_count": 8,
   "id": "ebd854d3",
   "metadata": {},
   "outputs": [],
   "source": [
    "a_minus_idx = np.where( x == x[x<=-a][0] )[0][0]\n",
    "a_plus_idx = np.where( x == x[x>=a][0] )[0][0]\n",
    "    \n",
    "# Numerical transmission and reflection coefficient\n",
    "def transrefcoeff_numeric(psi):\n",
    "    psileft =  psi[0:a_minus_idx+1]\n",
    "    psiright = psi[a_plus_idx:-1]\n",
    "    R = np.sum(psileft.conj().T*psileft)*dx\n",
    "    T = np.sum(psiright.conj().T*psiright)*dx\n",
    "    return [R,T]\n",
    "\n",
    "# Analytic transmission and reflection coefficient\n",
    "def transrefcoeff_analyt(E):\n",
    "    k = np.sqrt(2*m*E)/hbar\n",
    "    if E > V0 :\n",
    "        l = np.sqrt(2*m*(E-V0))/hbar\n",
    "        T = 1/( 1 + ((k/l - l/k)**2)*((np.sin(2*l*a))**2)/4 )\n",
    "        R = 1 - T\n",
    "        return [R,T]\n",
    "    if E == V0 :\n",
    "        T = 1/( 1 + (k**2)*(a**2) )\n",
    "        R = 1 - T\n",
    "        return [R,T]\n",
    "    if E < V0 :\n",
    "        alpha = np.sqrt(2*m*(V0-E))/hbar\n",
    "        T = 1/( 1 + ((k/alpha + alpha/k)**2)*((np.sinh(2*alpha*a))**2)/4 )\n",
    "        R = 1 - T\n",
    "        return [R,T]"
   ]
  },
  {
   "cell_type": "code",
   "execution_count": 9,
   "id": "1463b58a",
   "metadata": {},
   "outputs": [],
   "source": [
    "kx_list = np.arange(0.1,4.5,0.05)\n",
    "expec_energy_list = np.zeros((kx_list.shape))\n",
    "\n",
    "for i in range(len(kx_list)):\n",
    "    kx0   = kx_list[i]        \n",
    "    expec_energy_list[i] = np.real(expec_energy(psi(kx0)))"
   ]
  },
  {
   "cell_type": "code",
   "execution_count": 10,
   "id": "a47bfcd5",
   "metadata": {},
   "outputs": [],
   "source": [
    "t0 = 0.0     # initial time\n",
    "tf = 10.0    # final time\n",
    "dt = 0.005   # time interval \n",
    "t_eval = np.arange(t0, tf, dt)  # recorded time shots\n",
    "\n",
    "# Numerical transmission and reflection coefficient\n",
    "Txn_coeff_numeric = np.zeros((kx_list.shape))\n",
    "Ref_coeff_numeric = np.zeros((kx_list.shape))\n",
    "\n",
    "# Analytic transmission and reflection coefficient\n",
    "Txn_coeff_analyt = np.zeros((kx_list.shape))\n",
    "Ref_coeff_analyt = np.zeros((kx_list.shape))\n",
    "\n",
    "for i in range(len(kx_list)):\n",
    "    kx0   = kx_list[i]  \n",
    "    sol = integrate.solve_ivp(psi_t, t_span = [t0, tf], y0 = psi(kx0), t_eval = t_eval, method=\"RK23\")\n",
    "    # Take psi(x,t) solution at later time t = tf to calculate txn / ref coefficient\n",
    "    [R1,T1] = transrefcoeff_numeric(sol.y[:,-1])\n",
    "    Txn_coeff_numeric[i] = T1.real\n",
    "    Ref_coeff_numeric[i] = R1.real\n",
    "    \n",
    "    E = expec_energy_list[i]\n",
    "    [R2,T2] = transrefcoeff_analyt(E)\n",
    "    Txn_coeff_analyt[i] = T2\n",
    "    Ref_coeff_analyt[i] = R2"
   ]
  },
  {
   "cell_type": "code",
   "execution_count": 11,
   "id": "88941abc",
   "metadata": {},
   "outputs": [
    {
     "data": {
      "image/png": "[encoded data removed]",
      "text/plain": [
       "<Figure size 504x504 with 1 Axes>"
      ]
     },
     "metadata": {
      "needs_background": "light"
     },
     "output_type": "display_data"
    }
   ],
   "source": [
    "plt.figure(figsize=(7,7))\n",
    "plt.plot(expec_energy_list,Txn_coeff_analyt, \"k\",label=\"Analytical\")\n",
    "plt.plot(expec_energy_list,Txn_coeff_numeric,\".r\",label=\"Numerical\")\n",
    "plt.axvline(x=V0, color='b', linestyle='--')\n",
    "plt.text(V0, plt.ylim()[1]*0.1, 'E = V0', color='black', ha='left')\n",
    "plt.xlabel('Energy ( E ) ')\n",
    "plt.ylabel('Transmission Coefficient ( T )')\n",
    "plt.legend()\n",
    "plt.show()"
   ]
  }
 ],
 "metadata": {
  "kernelspec": {
   "display_name": "Python 3 (ipykernel)",
   "language": "python",
   "name": "python3"
  },
  "language_info": {
   "codemirror_mode": {
    "name": "ipython",
    "version": 3
   },
   "file_extension": ".py",
   "mimetype": "text/x-python",
   "name": "python",
   "nbconvert_exporter": "python",
   "pygments_lexer": "ipython3",
   "version": "3.9.7"
  }
 },
 "nbformat": 4,
 "nbformat_minor": 5
}
